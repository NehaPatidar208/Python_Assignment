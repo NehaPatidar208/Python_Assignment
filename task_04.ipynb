{
 "cells": [
  {
   "cell_type": "code",
   "execution_count": 2,
   "metadata": {},
   "outputs": [
    {
     "name": "stdout",
     "output_type": "stream",
     "text": [
      "Enter int values seperated by ,(comma) for a list1,2,3,4\n",
      "original list : [1, 2, 3, 4]\n",
      "Cumulative product list : [1, 2, 6, 24]\n"
     ]
    }
   ],
   "source": [
    "#cumulative product list\n",
    "lst_in=input(\"Enter int values seperated by ,(comma) for a list\")\n",
    "lst=lst_in.split(\",\")\n",
    "for i in range(0,len(lst)):\n",
    "    lst[i]=int(lst[i])\n",
    "lst1=[]\n",
    "for i in range(0,len(lst)):\n",
    "    tmp=1\n",
    "    for j in range(0,i+1):\n",
    "        tmp=tmp*lst[j]\n",
    "    lst1.append(tmp)\n",
    "print(\"original list :\",lst)\n",
    "print(\"Cumulative product list :\",lst1)"
   ]
  },
  {
   "cell_type": "code",
   "execution_count": null,
   "metadata": {},
   "outputs": [],
   "source": []
  }
 ],
 "metadata": {
  "kernelspec": {
   "display_name": "Python 3",
   "language": "python",
   "name": "python3"
  },
  "language_info": {
   "codemirror_mode": {
    "name": "ipython",
    "version": 3
   },
   "file_extension": ".py",
   "mimetype": "text/x-python",
   "name": "python",
   "nbconvert_exporter": "python",
   "pygments_lexer": "ipython3",
   "version": "3.7.3"
  }
 },
 "nbformat": 4,
 "nbformat_minor": 2
}
