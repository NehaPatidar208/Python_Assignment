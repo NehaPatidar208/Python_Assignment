{
 "cells": [
  {
   "cell_type": "code",
   "execution_count": 1,
   "metadata": {},
   "outputs": [
    {
     "name": "stdout",
     "output_type": "stream",
     "text": [
      "Enter the value separated by ,(comma) for a list5,6,7,2,4,1,2,0\n",
      "[6, 7]\n",
      "[2, 1, 2, 0]\n"
     ]
    }
   ],
   "source": [
    "\"\"\" take a list say  adhoc=[1,2,3,1,4,5,66,22,2,6,0,9]\n",
    "write the program that will do\n",
    "  i)  print only those numbers greater than 5\n",
    "  ii)  also print those numbers those are less than or  equals to 2  ( <= 2 )\n",
    "  iii)  store these answers in in two different list also\n",
    "  \"\"\"\n",
    "adhoc=input(\"Enter the value separated by ,(comma) for a list\")\n",
    "adhoc01=adhoc.split(\",\")\n",
    "for i in range (0,len(adhoc01)):\n",
    "    adhoc01[i]=int(adhoc01[i])\n",
    "#print only those numbers which are greater than 5\n",
    "list01=[]\n",
    "list02=[]\n",
    "for i in adhoc01:\n",
    "    if (i>5):\n",
    "        list01.append(i)                   #case i) and case iii)\n",
    "    if(i<=2):\n",
    "        list02.append(i)         #case ii) and case iii)\n",
    "print(list01)                    #output of case i)\n",
    "print(list02)                    #output of case ii)"
   ]
  },
  {
   "cell_type": "code",
   "execution_count": null,
   "metadata": {},
   "outputs": [],
   "source": []
  }
 ],
 "metadata": {
  "kernelspec": {
   "display_name": "Python 3",
   "language": "python",
   "name": "python3"
  },
  "language_info": {
   "codemirror_mode": {
    "name": "ipython",
    "version": 3
   },
   "file_extension": ".py",
   "mimetype": "text/x-python",
   "name": "python",
   "nbconvert_exporter": "python",
   "pygments_lexer": "ipython3",
   "version": "3.7.3"
  }
 },
 "nbformat": 4,
 "nbformat_minor": 2
}
