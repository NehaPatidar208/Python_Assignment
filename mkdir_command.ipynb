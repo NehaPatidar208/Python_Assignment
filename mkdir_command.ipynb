{
 "cells": [
  {
   "cell_type": "code",
   "execution_count": 1,
   "metadata": {},
   "outputs": [
    {
     "name": "stdout",
     "output_type": "stream",
     "text": [
      "Enter directory nameneha\n"
     ]
    },
    {
     "data": {
      "text/plain": [
       "(1, 'A subdirectory or file neha already exists.')"
      ]
     },
     "execution_count": 1,
     "metadata": {},
     "output_type": "execute_result"
    }
   ],
   "source": [
    "#creating a directory in os\n",
    "\n",
    "import subprocess            #importing subprocess module\n",
    "dir_name=input(\"Enter directory name\")            #taking name of the directory from user\n",
    "subprocess.getstatusoutput(\"mkdir \"+dir_name)     #creating directory\n",
    "#if no directory exist with the given name then status will 0 andif any dir exist with the given name then status will not 0"
   ]
  },
  {
   "cell_type": "code",
   "execution_count": null,
   "metadata": {},
   "outputs": [],
   "source": []
  }
 ],
 "metadata": {
  "kernelspec": {
   "display_name": "Python 3",
   "language": "python",
   "name": "python3"
  },
  "language_info": {
   "codemirror_mode": {
    "name": "ipython",
    "version": 3
   },
   "file_extension": ".py",
   "mimetype": "text/x-python",
   "name": "python",
   "nbconvert_exporter": "python",
   "pygments_lexer": "ipython3",
   "version": "3.7.3"
  }
 },
 "nbformat": 4,
 "nbformat_minor": 2
}
