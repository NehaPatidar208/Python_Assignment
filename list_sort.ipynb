{
 "cells": [
  {
   "cell_type": "code",
   "execution_count": 1,
   "metadata": {},
   "outputs": [
    {
     "name": "stdout",
     "output_type": "stream",
     "text": [
      "Enter values seperated by ,(comma) in list : 1,2,3,4,22,33,145\n",
      "Smallest= 1\n",
      "Second smallest = 2\n",
      "Largest = 145\n",
      "second Largest = 33\n"
     ]
    }
   ],
   "source": [
    "# largest,second largest,smallest,second smallest\n",
    "lst=input(\"Enter values seperated by ,(comma) in list : \")\n",
    "lst=lst.split(\",\")\n",
    "for i in range (0,len(lst)):\n",
    "    lst[i]=int(lst[i])\n",
    "lst.sort();\n",
    "print(\"Smallest=\",lst[0])\n",
    "print(\"Second smallest =\",lst[1])\n",
    "print(\"Largest =\",lst[len(lst)-1])\n",
    "print(\"second Largest =\",lst[len(lst)-2])"
   ]
  },
  {
   "cell_type": "code",
   "execution_count": null,
   "metadata": {},
   "outputs": [],
   "source": []
  }
 ],
 "metadata": {
  "kernelspec": {
   "display_name": "Python 3",
   "language": "python",
   "name": "python3"
  },
  "language_info": {
   "codemirror_mode": {
    "name": "ipython",
    "version": 3
   },
   "file_extension": ".py",
   "mimetype": "text/x-python",
   "name": "python",
   "nbconvert_exporter": "python",
   "pygments_lexer": "ipython3",
   "version": "3.7.3"
  }
 },
 "nbformat": 4,
 "nbformat_minor": 2
}
