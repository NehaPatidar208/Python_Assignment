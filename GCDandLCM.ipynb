{
 "cells": [
  {
   "cell_type": "code",
   "execution_count": 1,
   "metadata": {},
   "outputs": [
    {
     "name": "stdout",
     "output_type": "stream",
     "text": [
      "Enter value of num115\n",
      "Enter value of num220\n",
      "GCD of 15 and 20 is 5\n",
      "LCM of 15 and 20 is 60\n"
     ]
    }
   ],
   "source": [
    "#calculate GCD and LCM of two numbers\n",
    "import math as m\n",
    "num1=int(input(\"Enter value of num1\"))               #taking input from user for first number\n",
    "num2=int(input(\"Enter value of num2\"))               # taking input from user for second number\n",
    "GCD=m.gcd(num1,num2)                                 #using predefine method gcd in math module to calculate GCD\n",
    "LCM=(num1*num2)/GCD                                 #calculating LCM\n",
    "print(\"GCD of %d and %d is %d\"%(num1,num2,GCD))      #printing GCD of numbers\n",
    "print(\"LCM of %d and %d is %d\"%(num1,num2,LCM))      #printing LCM of numbers"
   ]
  },
  {
   "cell_type": "code",
   "execution_count": null,
   "metadata": {},
   "outputs": [],
   "source": []
  }
 ],
 "metadata": {
  "kernelspec": {
   "display_name": "Python 3",
   "language": "python",
   "name": "python3"
  },
  "language_info": {
   "codemirror_mode": {
    "name": "ipython",
    "version": 3
   },
   "file_extension": ".py",
   "mimetype": "text/x-python",
   "name": "python",
   "nbconvert_exporter": "python",
   "pygments_lexer": "ipython3",
   "version": "3.7.3"
  }
 },
 "nbformat": 4,
 "nbformat_minor": 2
}
