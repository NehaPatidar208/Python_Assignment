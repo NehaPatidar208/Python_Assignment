{
 "cells": [
  {
   "cell_type": "code",
   "execution_count": 3,
   "metadata": {},
   "outputs": [
    {
     "name": "stdout",
     "output_type": "stream",
     "text": [
      "Enter the name of the user: neha\n",
      "Enter the present age of user: 20\n",
      "2095\n"
     ]
    }
   ],
   "source": [
    "# take user name and present age and print the year in which user's age will be 95\n",
    "import time\n",
    "usr_name=input(\"Enter the name of the user: \")\n",
    "usr_age=int(input(\"Enter the present age of user: \"))\n",
    "temp=95-usr_age                         #after temp year user will be of 95 years\n",
    "present_year=int(time.ctime()[-4:])     #calculating present year\n",
    "req_year=temp+present_year              #when user's age will be 95\n",
    "print(req_year)"
   ]
  },
  {
   "cell_type": "code",
   "execution_count": null,
   "metadata": {},
   "outputs": [],
   "source": []
  }
 ],
 "metadata": {
  "kernelspec": {
   "display_name": "Python 3",
   "language": "python",
   "name": "python3"
  },
  "language_info": {
   "codemirror_mode": {
    "name": "ipython",
    "version": 3
   },
   "file_extension": ".py",
   "mimetype": "text/x-python",
   "name": "python",
   "nbconvert_exporter": "python",
   "pygments_lexer": "ipython3",
   "version": "3.7.3"
  }
 },
 "nbformat": 4,
 "nbformat_minor": 2
}
